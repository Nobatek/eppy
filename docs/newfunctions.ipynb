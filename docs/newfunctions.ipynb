{
 "cells": [
  {
   "cell_type": "markdown",
   "metadata": {},
   "source": [
    "# New functions "
   ]
  },
  {
   "cell_type": "markdown",
   "metadata": {},
   "source": [
    "These are recently written functions that have not made it into the main documentation"
   ]
  },
  {
   "cell_type": "markdown",
   "metadata": {},
   "source": [
    "## Python Lesson: Errors and Exceptions"
   ]
  },
  {
   "cell_type": "code",
   "execution_count": 1,
   "metadata": {
    "collapsed": false
   },
   "outputs": [],
   "source": [
    "# you would normaly install eppy by doing\n",
    "# python setup.py install\n",
    "# or\n",
    "# pip install eppy\n",
    "# or\n",
    "# easy_install eppy\n",
    "\n",
    "# if you have not done so, uncomment the following three lines\n",
    "import sys\n",
    "# pathnameto_eppy = 'c:/eppy'\n",
    "pathnameto_eppy = '../'\n",
    "sys.path.append(pathnameto_eppy) \n"
   ]
  },
  {
   "cell_type": "markdown",
   "metadata": {},
   "source": [
    "When things go wrong in your eppy script, you get \"Errors and Exceptions\". \n",
    "\n",
    "To know more about how this works in python and eppy, take a look at [Python: Errors and Exceptions](http://docs.python.org/2/tutorial/errors.html)"
   ]
  },
  {
   "cell_type": "markdown",
   "metadata": {},
   "source": [
    "## Setting IDD name"
   ]
  },
  {
   "cell_type": "markdown",
   "metadata": {},
   "source": [
    "When you work with Energyplus you are working with **idf** files (files that have the extension \\*.idf). There is another file that is very important, called the **idd** file. This is the file that defines all the objects in Energyplus. Esch version of Energyplus has a different **idd** file. \n",
    "\n",
    "So eppy needs to know which **idd** file to use. Only one **idd** file can be used in a script or program. This means that you cannot change the **idd** file once you have selected it. Of course you have to first select an **idd** file before eppy can work.\n",
    "\n",
    "If you use eppy and break the above rules, eppy will raise an exception. So let us use eppy incorrectly and make eppy raise the exception, just see how that happens.\n",
    "\n",
    "First let us try to open an **idf** file without setting an **idd** file."
   ]
  },
  {
   "cell_type": "code",
   "execution_count": 2,
   "metadata": {
    "collapsed": false
   },
   "outputs": [],
   "source": [
    "from eppy import modeleditor \n",
    "from eppy.modeleditor import IDF\n",
    "fname1 = \"../eppy/resources/idffiles/V_7_2/smallfile.idf\"\n"
   ]
  },
  {
   "cell_type": "markdown",
   "metadata": {},
   "source": [
    "Now let us open file fname1 without setting the **idd** file"
   ]
  },
  {
   "cell_type": "code",
   "execution_count": 3,
   "metadata": {
    "collapsed": false
   },
   "outputs": [
    {
     "ename": "IDDNotSetError",
     "evalue": "IDD file needed to read the idf file. Set it using IDF.setiddname(iddfile)",
     "output_type": "error",
     "traceback": [
      "\u001b[0;31m---------------------------------------------------------------------------\u001b[0m\n\u001b[0;31mIDDNotSetError\u001b[0m                            Traceback (most recent call last)",
      "\u001b[0;32m<ipython-input-3-44ad2b53d42c>\u001b[0m in \u001b[0;36m<module>\u001b[0;34m()\u001b[0m\n\u001b[1;32m      2\u001b[0m     \u001b[0midf1\u001b[0m \u001b[0;34m=\u001b[0m \u001b[0mIDF\u001b[0m\u001b[0;34m(\u001b[0m\u001b[0mfname1\u001b[0m\u001b[0;34m)\u001b[0m\u001b[0;34m\u001b[0m\u001b[0m\n\u001b[1;32m      3\u001b[0m \u001b[0;32mexcept\u001b[0m \u001b[0mException\u001b[0m\u001b[0;34m,\u001b[0m \u001b[0me\u001b[0m\u001b[0;34m:\u001b[0m\u001b[0;34m\u001b[0m\u001b[0m\n\u001b[0;32m----> 4\u001b[0;31m     \u001b[0;32mraise\u001b[0m \u001b[0me\u001b[0m\u001b[0;34m\u001b[0m\u001b[0m\n\u001b[0m\u001b[1;32m      5\u001b[0m \u001b[0;34m\u001b[0m\u001b[0m\n",
      "\u001b[0;31mIDDNotSetError\u001b[0m: IDD file needed to read the idf file. Set it using IDF.setiddname(iddfile)"
     ]
    }
   ],
   "source": [
    "try:\n",
    "    idf1 = IDF(fname1)\n",
    "except Exception, e:\n",
    "    raise e\n",
    "    "
   ]
  },
  {
   "cell_type": "markdown",
   "metadata": {},
   "source": [
    "OK. It does not let you do that and it raises an exception\n",
    "\n",
    "So let us set the **idd** file and then open the idf file"
   ]
  },
  {
   "cell_type": "code",
   "execution_count": 4,
   "metadata": {
    "collapsed": false
   },
   "outputs": [
    {
     "name": "stdout",
     "output_type": "stream",
     "text": [
      "['__class__', '__delattr__', '__dict__', '__doc__', '__format__', '__getattribute__', '__hash__', '__init__', '__module__', '__new__', '__reduce__', '__reduce_ex__', '__repr__', '__setattr__', '__sizeof__', '__str__', '__subclasshook__', '__weakref__', 'add2node', 'addinnode', 'dt', 'dtls', 'getrefs', 'initdict', 'makedict', 'replacenode']\n"
     ]
    }
   ],
   "source": [
    "iddfile = \"../eppy/resources/iddfiles/Energy+V7_2_0.idd\"\n",
    "IDF.setiddname(iddfile)\n",
    "idf1 = IDF(fname1)\n"
   ]
  },
  {
   "cell_type": "markdown",
   "metadata": {},
   "source": [
    "That worked without raising an exception\n",
    "\n",
    "Now let us try to change the **idd** file. Eppy should not let you do this and should raise an exception."
   ]
  },
  {
   "cell_type": "code",
   "execution_count": 5,
   "metadata": {
    "collapsed": false
   },
   "outputs": [
    {
     "ename": "IDDAlreadySetError",
     "evalue": "IDD file is set to: ../eppy/resources/iddfiles/Energy+V7_2_0.idd",
     "output_type": "error",
     "traceback": [
      "\u001b[0;31m---------------------------------------------------------------------------\u001b[0m\n\u001b[0;31mIDDAlreadySetError\u001b[0m                        Traceback (most recent call last)",
      "\u001b[0;32m<ipython-input-5-52df819ac489>\u001b[0m in \u001b[0;36m<module>\u001b[0;34m()\u001b[0m\n\u001b[1;32m      2\u001b[0m     \u001b[0mIDF\u001b[0m\u001b[0;34m.\u001b[0m\u001b[0msetiddname\u001b[0m\u001b[0;34m(\u001b[0m\u001b[0;34m\"anotheridd.idd\"\u001b[0m\u001b[0;34m)\u001b[0m\u001b[0;34m\u001b[0m\u001b[0m\n\u001b[1;32m      3\u001b[0m \u001b[0;32mexcept\u001b[0m \u001b[0mException\u001b[0m\u001b[0;34m,\u001b[0m \u001b[0me\u001b[0m\u001b[0;34m:\u001b[0m\u001b[0;34m\u001b[0m\u001b[0m\n\u001b[0;32m----> 4\u001b[0;31m     \u001b[0;32mraise\u001b[0m \u001b[0me\u001b[0m\u001b[0;34m\u001b[0m\u001b[0m\n\u001b[0m\u001b[1;32m      5\u001b[0m \u001b[0;34m\u001b[0m\u001b[0m\n",
      "\u001b[0;31mIDDAlreadySetError\u001b[0m: IDD file is set to: ../eppy/resources/iddfiles/Energy+V7_2_0.idd"
     ]
    }
   ],
   "source": [
    "try:\n",
    "    IDF.setiddname(\"anotheridd.idd\")\n",
    "except Exception, e:\n",
    "    raise e   \n",
    "    "
   ]
  },
  {
   "cell_type": "markdown",
   "metadata": {},
   "source": [
    "Excellent!! It raised the exception we were expecting."
   ]
  },
  {
   "cell_type": "markdown",
   "metadata": {},
   "source": [
    "## Check range for fields"
   ]
  },
  {
   "cell_type": "markdown",
   "metadata": {},
   "source": [
    "The fields of idf objects often have a range of legal values. The following functions will let you discover what that range is and test if your value lies within that range"
   ]
  },
  {
   "cell_type": "markdown",
   "metadata": {},
   "source": [
    "demonstrate two new functions:\n",
    "\n",
    "- EpBunch.getrange(fieldname) # will return the ranges for that field\n",
    "- EpBunch.checkrange(fieldname) # will throw an exception if the value is outside the range"
   ]
  },
  {
   "cell_type": "code",
   "execution_count": 6,
   "metadata": {
    "collapsed": false
   },
   "outputs": [],
   "source": [
    "from eppy import modeleditor \n",
    "from eppy.modeleditor import IDF\n",
    "iddfile = \"../eppy/resources/iddfiles/Energy+V7_2_0.idd\"\n",
    "fname1 = \"../eppy/resources/idffiles/V_7_2/smallfile.idf\"\n"
   ]
  },
  {
   "cell_type": "code",
   "execution_count": 7,
   "metadata": {
    "collapsed": false
   },
   "outputs": [
    {
     "name": "stdout",
     "output_type": "stream",
     "text": [
      "['__class__', '__delattr__', '__dict__', '__doc__', '__format__', '__getattribute__', '__hash__', '__init__', '__module__', '__new__', '__reduce__', '__reduce_ex__', '__repr__', '__setattr__', '__sizeof__', '__str__', '__subclasshook__', '__weakref__', 'add2node', 'addinnode', 'dt', 'dtls', 'getrefs', 'initdict', 'makedict', 'replacenode']\n"
     ]
    }
   ],
   "source": [
    "# IDF.setiddname(iddfile)# idd ws set further up in this page\n",
    "idf1 = IDF(fname1)\n"
   ]
  },
  {
   "cell_type": "code",
   "execution_count": 8,
   "metadata": {
    "collapsed": false
   },
   "outputs": [
    {
     "name": "stdout",
     "output_type": "stream",
     "text": [
      "\n",
      "BUILDING,                 \n",
      "    Empire State Building,    !- Name\n",
      "    30.0,                     !- North Axis\n",
      "    City,                     !- Terrain\n",
      "    0.04,                     !- Loads Convergence Tolerance Value\n",
      "    0.4,                      !- Temperature Convergence Tolerance Value\n",
      "    FullExterior,             !- Solar Distribution\n",
      "    25,                       !- Maximum Number of Warmup Days\n",
      "    6;                        !- Minimum Number of Warmup Days\n",
      "\n"
     ]
    }
   ],
   "source": [
    "building = idf1.idfobjects['building'.upper()][0]\n",
    "print building\n"
   ]
  },
  {
   "cell_type": "code",
   "execution_count": 9,
   "metadata": {
    "collapsed": false
   },
   "outputs": [
    {
     "name": "stdout",
     "output_type": "stream",
     "text": [
      "{u'maximum<': None, u'minimum': None, u'type': u'real', u'maximum': 0.5, u'minimum>': 0.0}\n"
     ]
    }
   ],
   "source": [
    "print building.getrange(\"Loads_Convergence_Tolerance_Value\")\n"
   ]
  },
  {
   "cell_type": "code",
   "execution_count": 10,
   "metadata": {
    "collapsed": false
   },
   "outputs": [
    {
     "name": "stdout",
     "output_type": "stream",
     "text": [
      "0.04\n"
     ]
    }
   ],
   "source": [
    "print building.checkrange(\"Loads_Convergence_Tolerance_Value\")\n"
   ]
  },
  {
   "cell_type": "markdown",
   "metadata": {},
   "source": [
    "Let us set these values outside the range and see what happens"
   ]
  },
  {
   "cell_type": "code",
   "execution_count": 11,
   "metadata": {
    "collapsed": false
   },
   "outputs": [
    {
     "ename": "RangeError",
     "evalue": "Value 0.6 is not less or equal to the 'maximum' of 0.5",
     "output_type": "error",
     "traceback": [
      "\u001b[0;31m---------------------------------------------------------------------------\u001b[0m\n\u001b[0;31mRangeError\u001b[0m                                Traceback (most recent call last)",
      "\u001b[0;32m<ipython-input-11-a824cb1ec673>\u001b[0m in \u001b[0;36m<module>\u001b[0;34m()\u001b[0m\n\u001b[1;32m      4\u001b[0m     \u001b[0;32mprint\u001b[0m \u001b[0mbuilding\u001b[0m\u001b[0;34m.\u001b[0m\u001b[0mcheckrange\u001b[0m\u001b[0;34m(\u001b[0m\u001b[0;34m\"Loads_Convergence_Tolerance_Value\"\u001b[0m\u001b[0;34m)\u001b[0m\u001b[0;34m\u001b[0m\u001b[0m\n\u001b[1;32m      5\u001b[0m \u001b[0;32mexcept\u001b[0m \u001b[0mRangeError\u001b[0m\u001b[0;34m,\u001b[0m \u001b[0me\u001b[0m\u001b[0;34m:\u001b[0m\u001b[0;34m\u001b[0m\u001b[0m\n\u001b[0;32m----> 6\u001b[0;31m     \u001b[0;32mraise\u001b[0m \u001b[0me\u001b[0m\u001b[0;34m\u001b[0m\u001b[0m\n\u001b[0m\u001b[1;32m      7\u001b[0m \u001b[0;34m\u001b[0m\u001b[0m\n",
      "\u001b[0;31mRangeError\u001b[0m: Value 0.6 is not less or equal to the 'maximum' of 0.5"
     ]
    }
   ],
   "source": [
    "building.Loads_Convergence_Tolerance_Value = 0.6\n",
    "from eppy.bunch_subclass import RangeError\n",
    "try:\n",
    "    print building.checkrange(\"Loads_Convergence_Tolerance_Value\")\n",
    "except RangeError, e:\n",
    "    raise e\n",
    "    "
   ]
  },
  {
   "cell_type": "markdown",
   "metadata": {},
   "source": [
    "So the Range Check works"
   ]
  },
  {
   "cell_type": "markdown",
   "metadata": {},
   "source": [
    "## Looping through all the fields in an idf object"
   ]
  },
  {
   "cell_type": "markdown",
   "metadata": {},
   "source": [
    "We have seen how to check the range of field in the idf object. What if you want to do a *range check* on all the fields in an idf object ? To do this we will need a list of all the fields in the idf object. We can do this easily by the following line"
   ]
  },
  {
   "cell_type": "code",
   "execution_count": 12,
   "metadata": {
    "collapsed": false
   },
   "outputs": [
    {
     "name": "stdout",
     "output_type": "stream",
     "text": [
      "[u'key', u'Name', u'North_Axis', u'Terrain', u'Loads_Convergence_Tolerance_Value', u'Temperature_Convergence_Tolerance_Value', u'Solar_Distribution', u'Maximum_Number_of_Warmup_Days', u'Minimum_Number_of_Warmup_Days']\n"
     ]
    }
   ],
   "source": [
    "print building.fieldnames\n"
   ]
  },
  {
   "cell_type": "markdown",
   "metadata": {},
   "source": [
    "So let us use this"
   ]
  },
  {
   "cell_type": "code",
   "execution_count": 13,
   "metadata": {
    "collapsed": false
   },
   "outputs": [
    {
     "name": "stdout",
     "output_type": "stream",
     "text": [
      "key = BUILDING\n",
      "Name = Empire State Building\n",
      "North_Axis = 30.0\n",
      "Terrain = City\n",
      "Loads_Convergence_Tolerance_Value = 0.6\n",
      "Temperature_Convergence_Tolerance_Value = 0.4\n",
      "Solar_Distribution = FullExterior\n",
      "Maximum_Number_of_Warmup_Days = 25\n",
      "Minimum_Number_of_Warmup_Days = 6\n"
     ]
    }
   ],
   "source": [
    "for fieldname in building.fieldnames:\n",
    "    print \"%s = %s\" % (fieldname, building[fieldname])\n",
    "    "
   ]
  },
  {
   "cell_type": "markdown",
   "metadata": {},
   "source": [
    "Now let us test if the values are in the legal range. We know that \"Loads_Convergence_Tolerance_Value\" is out of range"
   ]
  },
  {
   "cell_type": "code",
   "execution_count": 14,
   "metadata": {
    "collapsed": false
   },
   "outputs": [
    {
     "name": "stdout",
     "output_type": "stream",
     "text": [
      "key = BUILDING #-in range\n",
      "Name = Empire State Building #-in range\n",
      "North_Axis = 30.0 #-in range\n",
      "Terrain = City #-in range\n",
      "Loads_Convergence_Tolerance_Value = 0.6 #-****OUT OF RANGE****\n",
      "Temperature_Convergence_Tolerance_Value = 0.4 #-in range\n",
      "Solar_Distribution = FullExterior #-in range\n",
      "Maximum_Number_of_Warmup_Days = 25 #-in range\n",
      "Minimum_Number_of_Warmup_Days = 6 #-in range\n"
     ]
    }
   ],
   "source": [
    "from eppy.bunch_subclass import RangeError\n",
    "for fieldname in building.fieldnames:\n",
    "    try:\n",
    "        building.checkrange(fieldname)\n",
    "        print \"%s = %s #-in range\" % (fieldname, building[fieldname],)\n",
    "    except RangeError as e:\n",
    "        print \"%s = %s #-****OUT OF RANGE****\" % (fieldname, building[fieldname],)\n",
    "        "
   ]
  },
  {
   "cell_type": "markdown",
   "metadata": {},
   "source": [
    "You see, we caught the out of range value"
   ]
  },
  {
   "cell_type": "markdown",
   "metadata": {},
   "source": [
    "## Blank idf file"
   ]
  },
  {
   "cell_type": "markdown",
   "metadata": {},
   "source": [
    "Until now in all our examples, we have been reading an idf file from disk:\n",
    "\n",
    "- How do I create a blank new idf file  \n",
    "- give it a file name\n",
    "- Save it to the disk\n",
    "\n",
    "Here are the steps to do that"
   ]
  },
  {
   "cell_type": "code",
   "execution_count": 15,
   "metadata": {
    "collapsed": false
   },
   "outputs": [
    {
     "name": "stdout",
     "output_type": "stream",
     "text": [
      "['__class__', '__delattr__', '__dict__', '__doc__', '__format__', '__getattribute__', '__hash__', '__init__', '__module__', '__new__', '__reduce__', '__reduce_ex__', '__repr__', '__setattr__', '__sizeof__', '__str__', '__subclasshook__', '__weakref__', 'add2node', 'addinnode', 'dt', 'dtls', 'getrefs', 'initdict', 'makedict', 'replacenode']\n",
      "\n",
      "VERSION,                  \n",
      "    7.3;                      !- Version Identifier\n",
      "\n",
      "SIMULATIONCONTROL,        \n",
      "    Yes,                      !- Do Zone Sizing Calculation\n",
      "    Yes,                      !- Do System Sizing Calculation\n",
      "    Yes,                      !- Do Plant Sizing Calculation\n",
      "    No,                       !- Run Simulation for Sizing Periods\n",
      "    Yes;                      !- Run Simulation for Weather File Run Periods\n",
      "\n",
      "BUILDING,                 \n",
      "    Empire State Building,    !- Name\n",
      "    30.0,                     !- North Axis\n",
      "    City,                     !- Terrain\n",
      "    0.04,                     !- Loads Convergence Tolerance Value\n",
      "    0.4,                      !- Temperature Convergence Tolerance Value\n",
      "    FullExterior,             !- Solar Distribution\n",
      "    25,                       !- Maximum Number of Warmup Days\n",
      "    6;                        !- Minimum Number of Warmup Days\n",
      "\n",
      "SITE:LOCATION,            \n",
      "    CHICAGO_IL_USA TMY2-94846,    !- Name\n",
      "    41.78,                    !- Latitude\n",
      "    -87.75,                   !- Longitude\n",
      "    -6.0,                     !- Time Zone\n",
      "    190.0;                    !- Elevation\n",
      "\n"
     ]
    }
   ],
   "source": [
    "# some initial steps\n",
    "from eppy.modeleditor import IDF\n",
    "iddfile = \"../eppy/resources/iddfiles/Energy+V7_2_0.idd\"\n",
    "# IDF.setiddname(iddfile) # Has already been set \n",
    "\n",
    "# - Let us first open a file from the disk\n",
    "fname1 = \"../eppy/resources/idffiles/V_7_2/smallfile.idf\"\n",
    "idf_fromfilename = IDF(fname1) # initialize the IDF object with the file name\n",
    "\n",
    "idf_fromfilename.printidf()\n"
   ]
  },
  {
   "cell_type": "code",
   "execution_count": 16,
   "metadata": {
    "collapsed": false
   },
   "outputs": [
    {
     "ename": "AttributeError",
     "evalue": "'eplusdata' object has no attribute 'dt'",
     "output_type": "error",
     "traceback": [
      "\u001b[0;31m---------------------------------------------------------------------------\u001b[0m\n\u001b[0;31mAttributeError\u001b[0m                            Traceback (most recent call last)",
      "\u001b[0;32m<ipython-input-16-ab76e2c095ca>\u001b[0m in \u001b[0;36m<module>\u001b[0;34m()\u001b[0m\n\u001b[1;32m      2\u001b[0m \u001b[0mfname1\u001b[0m \u001b[0;34m=\u001b[0m \u001b[0;34m\"../eppy/resources/idffiles/V_7_2/smallfile.idf\"\u001b[0m\u001b[0;34m\u001b[0m\u001b[0m\n\u001b[1;32m      3\u001b[0m \u001b[0mfhandle\u001b[0m \u001b[0;34m=\u001b[0m \u001b[0mopen\u001b[0m\u001b[0;34m(\u001b[0m\u001b[0mfname1\u001b[0m\u001b[0;34m,\u001b[0m \u001b[0;34m'r'\u001b[0m\u001b[0;34m)\u001b[0m \u001b[0;31m# open the file for reading and assign it a file handle\u001b[0m\u001b[0;34m\u001b[0m\u001b[0m\n\u001b[0;32m----> 4\u001b[0;31m \u001b[0midf_fromfilehandle\u001b[0m \u001b[0;34m=\u001b[0m \u001b[0mIDF\u001b[0m\u001b[0;34m(\u001b[0m\u001b[0mfhandle\u001b[0m\u001b[0;34m)\u001b[0m \u001b[0;31m# initialize the IDF object with the file handle\u001b[0m\u001b[0;34m\u001b[0m\u001b[0m\n\u001b[0m\u001b[1;32m      5\u001b[0m \u001b[0;34m\u001b[0m\u001b[0m\n\u001b[1;32m      6\u001b[0m \u001b[0midf_fromfilehandle\u001b[0m\u001b[0;34m.\u001b[0m\u001b[0mprintidf\u001b[0m\u001b[0;34m(\u001b[0m\u001b[0;34m)\u001b[0m\u001b[0;34m\u001b[0m\u001b[0m\n",
      "\u001b[0;32m/Users/santoshphilip/Documents/coolshadow/eppy/eppy/modeleditor.pyc\u001b[0m in \u001b[0;36m__init__\u001b[0;34m(self, idfname)\u001b[0m\n\u001b[1;32m    630\u001b[0m     \"\"\"\n\u001b[1;32m    631\u001b[0m     \u001b[0;32mdef\u001b[0m \u001b[0m__init__\u001b[0m\u001b[0;34m(\u001b[0m\u001b[0mself\u001b[0m\u001b[0;34m,\u001b[0m \u001b[0midfname\u001b[0m\u001b[0;34m=\u001b[0m\u001b[0mNone\u001b[0m\u001b[0;34m)\u001b[0m\u001b[0;34m:\u001b[0m\u001b[0;34m\u001b[0m\u001b[0m\n\u001b[0;32m--> 632\u001b[0;31m         \u001b[0msuper\u001b[0m\u001b[0;34m(\u001b[0m\u001b[0mIDF3\u001b[0m\u001b[0;34m,\u001b[0m \u001b[0mself\u001b[0m\u001b[0;34m)\u001b[0m\u001b[0;34m.\u001b[0m\u001b[0m__init__\u001b[0m\u001b[0;34m(\u001b[0m\u001b[0midfname\u001b[0m\u001b[0;34m)\u001b[0m\u001b[0;34m\u001b[0m\u001b[0m\n\u001b[0m\u001b[1;32m    633\u001b[0m     \u001b[0;32mdef\u001b[0m \u001b[0minitread\u001b[0m\u001b[0;34m(\u001b[0m\u001b[0mself\u001b[0m\u001b[0;34m,\u001b[0m \u001b[0midfname\u001b[0m\u001b[0;34m)\u001b[0m\u001b[0;34m:\u001b[0m\u001b[0;34m\u001b[0m\u001b[0m\n\u001b[1;32m    634\u001b[0m         \"\"\"use the latest iddfile and read file fname\n",
      "\u001b[0;32m/Users/santoshphilip/Documents/coolshadow/eppy/eppy/modeleditor.pyc\u001b[0m in \u001b[0;36m__init__\u001b[0;34m(self, idfname)\u001b[0m\n\u001b[1;32m    575\u001b[0m     \"\"\"\n\u001b[1;32m    576\u001b[0m     \u001b[0;32mdef\u001b[0m \u001b[0m__init__\u001b[0m\u001b[0;34m(\u001b[0m\u001b[0mself\u001b[0m\u001b[0;34m,\u001b[0m \u001b[0midfname\u001b[0m\u001b[0;34m=\u001b[0m\u001b[0mNone\u001b[0m\u001b[0;34m)\u001b[0m\u001b[0;34m:\u001b[0m\u001b[0;34m\u001b[0m\u001b[0m\n\u001b[0;32m--> 577\u001b[0;31m         \u001b[0msuper\u001b[0m\u001b[0;34m(\u001b[0m\u001b[0mIDF2\u001b[0m\u001b[0;34m,\u001b[0m \u001b[0mself\u001b[0m\u001b[0;34m)\u001b[0m\u001b[0;34m.\u001b[0m\u001b[0m__init__\u001b[0m\u001b[0;34m(\u001b[0m\u001b[0midfname\u001b[0m\u001b[0;34m)\u001b[0m\u001b[0;34m\u001b[0m\u001b[0m\n\u001b[0m\u001b[1;32m    578\u001b[0m         \u001b[0mself\u001b[0m\u001b[0;34m.\u001b[0m\u001b[0moutputtype\u001b[0m \u001b[0;34m=\u001b[0m \u001b[0;34m\"standard\"\u001b[0m \u001b[0;31m# standard,\u001b[0m\u001b[0;34m\u001b[0m\u001b[0m\n\u001b[1;32m    579\u001b[0m                                     \u001b[0;31m# nocomment,\u001b[0m\u001b[0;34m\u001b[0m\u001b[0;34m\u001b[0m\u001b[0m\n",
      "\u001b[0;32m/Users/santoshphilip/Documents/coolshadow/eppy/eppy/modeleditor.pyc\u001b[0m in \u001b[0;36m__init__\u001b[0;34m(self, idfname)\u001b[0m\n\u001b[1;32m    499\u001b[0m     \"\"\"\n\u001b[1;32m    500\u001b[0m     \u001b[0;32mdef\u001b[0m \u001b[0m__init__\u001b[0m\u001b[0;34m(\u001b[0m\u001b[0mself\u001b[0m\u001b[0;34m,\u001b[0m \u001b[0midfname\u001b[0m\u001b[0;34m=\u001b[0m\u001b[0mNone\u001b[0m\u001b[0;34m)\u001b[0m\u001b[0;34m:\u001b[0m\u001b[0;34m\u001b[0m\u001b[0m\n\u001b[0;32m--> 501\u001b[0;31m         \u001b[0msuper\u001b[0m\u001b[0;34m(\u001b[0m\u001b[0mIDF1\u001b[0m\u001b[0;34m,\u001b[0m \u001b[0mself\u001b[0m\u001b[0;34m)\u001b[0m\u001b[0;34m.\u001b[0m\u001b[0m__init__\u001b[0m\u001b[0;34m(\u001b[0m\u001b[0midfname\u001b[0m\u001b[0;34m)\u001b[0m\u001b[0;34m\u001b[0m\u001b[0m\n\u001b[0m\u001b[1;32m    502\u001b[0m     \u001b[0;32mdef\u001b[0m \u001b[0mnewidfobject\u001b[0m\u001b[0;34m(\u001b[0m\u001b[0mself\u001b[0m\u001b[0;34m,\u001b[0m \u001b[0mkey\u001b[0m\u001b[0;34m,\u001b[0m \u001b[0maname\u001b[0m\u001b[0;34m=\u001b[0m\u001b[0;34m''\u001b[0m\u001b[0;34m,\u001b[0m \u001b[0;34m**\u001b[0m\u001b[0mkwargs\u001b[0m\u001b[0;34m)\u001b[0m\u001b[0;34m:\u001b[0m\u001b[0;34m\u001b[0m\u001b[0m\n\u001b[1;32m    503\u001b[0m     \u001b[0;31m# def newidfobject(self, key, *args, **kwargs):\u001b[0m\u001b[0;34m\u001b[0m\u001b[0;34m\u001b[0m\u001b[0m\n",
      "\u001b[0;32m/Users/santoshphilip/Documents/coolshadow/eppy/eppy/modeleditor.pyc\u001b[0m in \u001b[0;36m__init__\u001b[0;34m(self, idfname)\u001b[0m\n\u001b[1;32m    452\u001b[0m         \u001b[0;32mif\u001b[0m \u001b[0midfname\u001b[0m \u001b[0;34m!=\u001b[0m \u001b[0mNone\u001b[0m\u001b[0;34m:\u001b[0m\u001b[0;34m\u001b[0m\u001b[0m\n\u001b[1;32m    453\u001b[0m             \u001b[0mself\u001b[0m\u001b[0;34m.\u001b[0m\u001b[0midfname\u001b[0m \u001b[0;34m=\u001b[0m \u001b[0midfname\u001b[0m\u001b[0;34m\u001b[0m\u001b[0m\n\u001b[0;32m--> 454\u001b[0;31m             \u001b[0mself\u001b[0m\u001b[0;34m.\u001b[0m\u001b[0mread\u001b[0m\u001b[0;34m(\u001b[0m\u001b[0;34m)\u001b[0m\u001b[0;34m\u001b[0m\u001b[0m\n\u001b[0m\u001b[1;32m    455\u001b[0m     \u001b[0;34m@\u001b[0m\u001b[0mclassmethod\u001b[0m\u001b[0;34m\u001b[0m\u001b[0m\n\u001b[1;32m    456\u001b[0m     \u001b[0;32mdef\u001b[0m \u001b[0msetiddname\u001b[0m\u001b[0;34m(\u001b[0m\u001b[0mcls\u001b[0m\u001b[0;34m,\u001b[0m \u001b[0marg\u001b[0m\u001b[0;34m,\u001b[0m \u001b[0mtesting\u001b[0m\u001b[0;34m=\u001b[0m\u001b[0mFalse\u001b[0m\u001b[0;34m)\u001b[0m\u001b[0;34m:\u001b[0m\u001b[0;34m\u001b[0m\u001b[0m\n",
      "\u001b[0;32m/Users/santoshphilip/Documents/coolshadow/eppy/eppy/modeleditor.pyc\u001b[0m in \u001b[0;36mread\u001b[0;34m(self)\u001b[0m\n\u001b[1;32m    484\u001b[0m         readout = idfreader1(\n\u001b[1;32m    485\u001b[0m             \u001b[0mself\u001b[0m\u001b[0;34m.\u001b[0m\u001b[0midfname\u001b[0m\u001b[0;34m,\u001b[0m \u001b[0mself\u001b[0m\u001b[0;34m.\u001b[0m\u001b[0middname\u001b[0m\u001b[0;34m,\u001b[0m\u001b[0;34m\u001b[0m\u001b[0m\n\u001b[0;32m--> 486\u001b[0;31m             commdct=self.idd_info, block=self.block)\n\u001b[0m\u001b[1;32m    487\u001b[0m         \u001b[0mself\u001b[0m\u001b[0;34m.\u001b[0m\u001b[0midfobjects\u001b[0m\u001b[0;34m,\u001b[0m \u001b[0mblock\u001b[0m\u001b[0;34m,\u001b[0m \u001b[0mself\u001b[0m\u001b[0;34m.\u001b[0m\u001b[0mmodel\u001b[0m\u001b[0;34m,\u001b[0m \u001b[0midd_info\u001b[0m \u001b[0;34m=\u001b[0m \u001b[0mreadout\u001b[0m\u001b[0;34m\u001b[0m\u001b[0m\n\u001b[1;32m    488\u001b[0m         \u001b[0mself\u001b[0m\u001b[0;34m.\u001b[0m\u001b[0m__class__\u001b[0m\u001b[0;34m.\u001b[0m\u001b[0msetidd\u001b[0m\u001b[0;34m(\u001b[0m\u001b[0midd_info\u001b[0m\u001b[0;34m,\u001b[0m \u001b[0mblock\u001b[0m\u001b[0;34m)\u001b[0m\u001b[0;34m\u001b[0m\u001b[0m\n",
      "\u001b[0;32m/Users/santoshphilip/Documents/coolshadow/eppy/eppy/idfreader.py\u001b[0m in \u001b[0;36midfreader1\u001b[0;34m(fname, iddfile, conv, commdct, block)\u001b[0m\n\u001b[1;32m    164\u001b[0m         block=block)\n\u001b[1;32m    165\u001b[0m     \u001b[0;32mif\u001b[0m \u001b[0mconv\u001b[0m\u001b[0;34m:\u001b[0m\u001b[0;34m\u001b[0m\u001b[0m\n\u001b[0;32m--> 166\u001b[0;31m         \u001b[0mconvertallfields\u001b[0m\u001b[0;34m(\u001b[0m\u001b[0mdata\u001b[0m\u001b[0;34m,\u001b[0m \u001b[0mcommdct\u001b[0m\u001b[0;34m)\u001b[0m\u001b[0;34m\u001b[0m\u001b[0m\n\u001b[0m\u001b[1;32m    167\u001b[0m     \u001b[0;31m# fill gaps in idd\u001b[0m\u001b[0;34m\u001b[0m\u001b[0;34m\u001b[0m\u001b[0m\n\u001b[1;32m    168\u001b[0m     \u001b[0mddtt\u001b[0m\u001b[0;34m,\u001b[0m \u001b[0mdtls\u001b[0m \u001b[0;34m=\u001b[0m \u001b[0mdata\u001b[0m\u001b[0;34m.\u001b[0m\u001b[0mdt\u001b[0m\u001b[0;34m,\u001b[0m \u001b[0mdata\u001b[0m\u001b[0;34m.\u001b[0m\u001b[0mdtls\u001b[0m\u001b[0;34m\u001b[0m\u001b[0m\n",
      "\u001b[0;32m/Users/santoshphilip/Documents/coolshadow/eppy/eppy/idfreader.py\u001b[0m in \u001b[0;36mconvertallfields\u001b[0;34m(data, commdct)\u001b[0m\n\u001b[1;32m     94\u001b[0m     \u001b[0;34m\"\"\"docstring for convertallfields\"\"\"\u001b[0m\u001b[0;34m\u001b[0m\u001b[0m\n\u001b[1;32m     95\u001b[0m     \u001b[0;32mprint\u001b[0m\u001b[0;34m(\u001b[0m\u001b[0mdir\u001b[0m\u001b[0;34m(\u001b[0m\u001b[0mdata\u001b[0m\u001b[0;34m)\u001b[0m\u001b[0;34m)\u001b[0m\u001b[0;34m\u001b[0m\u001b[0m\n\u001b[0;32m---> 96\u001b[0;31m     \u001b[0;32mfor\u001b[0m \u001b[0mkey\u001b[0m \u001b[0;32min\u001b[0m \u001b[0mdata\u001b[0m\u001b[0;34m.\u001b[0m\u001b[0mdt\u001b[0m\u001b[0;34m.\u001b[0m\u001b[0mkeys\u001b[0m\u001b[0;34m(\u001b[0m\u001b[0;34m)\u001b[0m\u001b[0;34m:\u001b[0m\u001b[0;34m\u001b[0m\u001b[0m\n\u001b[0m\u001b[1;32m     97\u001b[0m         \u001b[0mobjs\u001b[0m \u001b[0;34m=\u001b[0m \u001b[0mdata\u001b[0m\u001b[0;34m.\u001b[0m\u001b[0mdt\u001b[0m\u001b[0;34m[\u001b[0m\u001b[0mkey\u001b[0m\u001b[0;34m]\u001b[0m\u001b[0;34m\u001b[0m\u001b[0m\n\u001b[1;32m     98\u001b[0m         \u001b[0;32mfor\u001b[0m \u001b[0mi\u001b[0m\u001b[0;34m,\u001b[0m \u001b[0mobj\u001b[0m \u001b[0;32min\u001b[0m \u001b[0menumerate\u001b[0m\u001b[0;34m(\u001b[0m\u001b[0mobjs\u001b[0m\u001b[0;34m)\u001b[0m\u001b[0;34m:\u001b[0m\u001b[0;34m\u001b[0m\u001b[0m\n",
      "\u001b[0;31mAttributeError\u001b[0m: 'eplusdata' object has no attribute 'dt'"
     ]
    },
    {
     "name": "stdout",
     "output_type": "stream",
     "text": [
      "['__class__', '__delattr__', '__dict__', '__doc__', '__format__', '__getattribute__', '__hash__', '__init__', '__module__', '__new__', '__reduce__', '__reduce_ex__', '__repr__', '__setattr__', '__sizeof__', '__str__', '__subclasshook__', '__weakref__', 'add2node', 'addinnode', 'getrefs', 'initdict', 'makedict', 'replacenode']\n"
     ]
    }
   ],
   "source": [
    "# - now let us open a file from the disk differently\n",
    "fname1 = \"../eppy/resources/idffiles/V_7_2/smallfile.idf\"\n",
    "fhandle = open(fname1, 'r') # open the file for reading and assign it a file handle\n",
    "idf_fromfilehandle = IDF(fhandle) # initialize the IDF object with the file handle\n",
    "\n",
    "idf_fromfilehandle.printidf()\n"
   ]
  },
  {
   "cell_type": "code",
   "execution_count": 17,
   "metadata": {
    "collapsed": false
   },
   "outputs": [
    {
     "name": "stdout",
     "output_type": "stream",
     "text": [
      "\n"
     ]
    }
   ],
   "source": [
    "# So IDF object can be initialized with either a file name or a file handle\n",
    "\n",
    "# - How do I create a blank new idf file  \n",
    "idftxt = \"\" # empty string\n",
    "from StringIO import StringIO\n",
    "fhandle = StringIO(idftxt) # we can make a file handle of a string\n",
    "idf_emptyfile = IDF(fhandle) # initialize the IDF object with the file handle\n",
    "\n",
    "idf_emptyfile.printidf()\n"
   ]
  },
  {
   "cell_type": "markdown",
   "metadata": {},
   "source": [
    "It did not print anything. Why should it. It was empty. \n",
    "\n",
    "What if we give it a string that was not blank"
   ]
  },
  {
   "cell_type": "code",
   "execution_count": 18,
   "metadata": {
    "collapsed": false
   },
   "outputs": [
    {
     "name": "stdout",
     "output_type": "stream",
     "text": [
      "\n",
      "VERSION,                  \n",
      "    7.3;                      !- Version Identifier\n",
      "\n"
     ]
    }
   ],
   "source": [
    "# - The string does not have to be blank\n",
    "idftxt = \"VERSION, 7.3;\" # Not an emplty string. has just the version number\n",
    "fhandle = StringIO(idftxt) # we can make a file handle of a string\n",
    "idf_notemptyfile = IDF(fhandle) # initialize the IDF object with the file handle\n",
    "\n",
    "idf_notemptyfile.printidf()\n"
   ]
  },
  {
   "cell_type": "markdown",
   "metadata": {},
   "source": [
    "Aha !\n",
    "\n",
    "Now let us give it a file name"
   ]
  },
  {
   "cell_type": "code",
   "execution_count": 19,
   "metadata": {
    "collapsed": false
   },
   "outputs": [],
   "source": [
    "# - give it a file name\n",
    "idf_notemptyfile.idfname = \"notemptyfile.idf\"\n",
    "# - Save it to the disk\n",
    "idf_notemptyfile.save()\n"
   ]
  },
  {
   "cell_type": "markdown",
   "metadata": {},
   "source": [
    "Let us confirm that the file was saved to disk"
   ]
  },
  {
   "cell_type": "code",
   "execution_count": 20,
   "metadata": {
    "collapsed": false
   },
   "outputs": [
    {
     "name": "stdout",
     "output_type": "stream",
     "text": [
      "\n",
      "VERSION,                  \n",
      "    7.3;                      !- Version Identifier\n",
      "\n"
     ]
    }
   ],
   "source": [
    "txt = open(\"notemptyfile.idf\", 'r').read()# read the file from the disk\n",
    "print txt\n"
   ]
  },
  {
   "cell_type": "markdown",
   "metadata": {},
   "source": [
    "Yup ! that file was saved. Let us delete it since we were just playing"
   ]
  },
  {
   "cell_type": "code",
   "execution_count": 21,
   "metadata": {
    "collapsed": false
   },
   "outputs": [],
   "source": [
    "import os\n",
    "os.remove(\"notemptyfile.idf\")\n"
   ]
  },
  {
   "cell_type": "markdown",
   "metadata": {},
   "source": [
    "## Deleting, copying/adding and making new idfobjects"
   ]
  },
  {
   "cell_type": "markdown",
   "metadata": {},
   "source": [
    "### Making a new idf object"
   ]
  },
  {
   "cell_type": "markdown",
   "metadata": {},
   "source": [
    "Let us start with a blank idf file and make some new \"MATERIAL\" objects in it"
   ]
  },
  {
   "cell_type": "code",
   "execution_count": 22,
   "metadata": {
    "collapsed": false
   },
   "outputs": [],
   "source": [
    "# making a blank idf object\n",
    "blankstr = \"\"\n",
    "from StringIO import StringIO\n",
    "idf = IDF(StringIO(blankstr))\n"
   ]
  },
  {
   "cell_type": "markdown",
   "metadata": {},
   "source": [
    "To make and add a new idfobject object, we use the function IDF.newidfobject(). We want to make an object of type \"MATERIAL\""
   ]
  },
  {
   "cell_type": "code",
   "execution_count": 23,
   "metadata": {
    "collapsed": false
   },
   "outputs": [],
   "source": [
    "newobject = idf.newidfobject(\"material\".upper()) # the key for the object type has to be in upper case\n",
    "                                     # .upper() makes it upper case\n",
    "    "
   ]
  },
  {
   "cell_type": "code",
   "execution_count": 24,
   "metadata": {
    "collapsed": false
   },
   "outputs": [
    {
     "name": "stdout",
     "output_type": "stream",
     "text": [
      "\n",
      "MATERIAL,                 \n",
      "    ,                         !- Name\n",
      "    ,                         !- Roughness\n",
      "    ,                         !- Thickness\n",
      "    ,                         !- Conductivity\n",
      "    ,                         !- Density\n",
      "    ,                         !- Specific Heat\n",
      "    0.9,                      !- Thermal Absorptance\n",
      "    0.7,                      !- Solar Absorptance\n",
      "    0.7;                      !- Visible Absorptance\n",
      "\n"
     ]
    }
   ],
   "source": [
    "print newobject\n"
   ]
  },
  {
   "cell_type": "markdown",
   "metadata": {},
   "source": [
    "Let us give this a name, say \"Shiny new material object\""
   ]
  },
  {
   "cell_type": "code",
   "execution_count": 25,
   "metadata": {
    "collapsed": false
   },
   "outputs": [
    {
     "name": "stdout",
     "output_type": "stream",
     "text": [
      "\n",
      "MATERIAL,                 \n",
      "    Shiny new material object,    !- Name\n",
      "    ,                         !- Roughness\n",
      "    ,                         !- Thickness\n",
      "    ,                         !- Conductivity\n",
      "    ,                         !- Density\n",
      "    ,                         !- Specific Heat\n",
      "    0.9,                      !- Thermal Absorptance\n",
      "    0.7,                      !- Solar Absorptance\n",
      "    0.7;                      !- Visible Absorptance\n",
      "\n"
     ]
    }
   ],
   "source": [
    "newobject.Name = \"Shiny new material object\"\n",
    "print newobject\n"
   ]
  },
  {
   "cell_type": "code",
   "execution_count": 26,
   "metadata": {
    "collapsed": false
   },
   "outputs": [
    {
     "name": "stdout",
     "output_type": "stream",
     "text": [
      "\n",
      "MATERIAL,                 \n",
      "    third material,           !- Name\n",
      "    ,                         !- Roughness\n",
      "    ,                         !- Thickness\n",
      "    ,                         !- Conductivity\n",
      "    ,                         !- Density\n",
      "    ,                         !- Specific Heat\n",
      "    0.9,                      !- Thermal Absorptance\n",
      "    0.7,                      !- Solar Absorptance\n",
      "    0.7;                      !- Visible Absorptance\n",
      "\n"
     ]
    }
   ],
   "source": [
    "anothermaterial = idf.newidfobject(\"material\".upper())\n",
    "anothermaterial.Name = \"Lousy material\"\n",
    "thirdmaterial = idf.newidfobject(\"material\".upper())\n",
    "thirdmaterial.Name = \"third material\"\n",
    "print thirdmaterial\n"
   ]
  },
  {
   "cell_type": "markdown",
   "metadata": {},
   "source": [
    "Let us look at all the \"MATERIAL\" objects"
   ]
  },
  {
   "cell_type": "code",
   "execution_count": 27,
   "metadata": {
    "collapsed": false
   },
   "outputs": [
    {
     "name": "stdout",
     "output_type": "stream",
     "text": [
      "[\n",
      "MATERIAL,                 \n",
      "    Shiny new material object,    !- Name\n",
      "    ,                         !- Roughness\n",
      "    ,                         !- Thickness\n",
      "    ,                         !- Conductivity\n",
      "    ,                         !- Density\n",
      "    ,                         !- Specific Heat\n",
      "    0.9,                      !- Thermal Absorptance\n",
      "    0.7,                      !- Solar Absorptance\n",
      "    0.7;                      !- Visible Absorptance\n",
      ", \n",
      "MATERIAL,                 \n",
      "    Lousy material,           !- Name\n",
      "    ,                         !- Roughness\n",
      "    ,                         !- Thickness\n",
      "    ,                         !- Conductivity\n",
      "    ,                         !- Density\n",
      "    ,                         !- Specific Heat\n",
      "    0.9,                      !- Thermal Absorptance\n",
      "    0.7,                      !- Solar Absorptance\n",
      "    0.7;                      !- Visible Absorptance\n",
      ", \n",
      "MATERIAL,                 \n",
      "    third material,           !- Name\n",
      "    ,                         !- Roughness\n",
      "    ,                         !- Thickness\n",
      "    ,                         !- Conductivity\n",
      "    ,                         !- Density\n",
      "    ,                         !- Specific Heat\n",
      "    0.9,                      !- Thermal Absorptance\n",
      "    0.7,                      !- Solar Absorptance\n",
      "    0.7;                      !- Visible Absorptance\n",
      "]\n"
     ]
    }
   ],
   "source": [
    "print idf.idfobjects[\"MATERIAL\"]\n"
   ]
  },
  {
   "cell_type": "markdown",
   "metadata": {},
   "source": [
    "As we can see there are three MATERIAL idfobjects. They are:\n",
    "\n",
    "1. Shiny new material object\n",
    "2. Lousy material\n",
    "3. third material"
   ]
  },
  {
   "cell_type": "markdown",
   "metadata": {},
   "source": [
    "### Deleting an idf object"
   ]
  },
  {
   "cell_type": "markdown",
   "metadata": {},
   "source": [
    "Let us remove 2. Lousy material. It is the second material in the list. So let us remove the second material"
   ]
  },
  {
   "cell_type": "code",
   "execution_count": 28,
   "metadata": {
    "collapsed": false
   },
   "outputs": [],
   "source": [
    "idf.popidfobject('MATERIAL', 1) # first material is '0', second is '1'\n"
   ]
  },
  {
   "cell_type": "code",
   "execution_count": 29,
   "metadata": {
    "collapsed": false
   },
   "outputs": [
    {
     "name": "stdout",
     "output_type": "stream",
     "text": [
      "[\n",
      "MATERIAL,                 \n",
      "    Shiny new material object,    !- Name\n",
      "    ,                         !- Roughness\n",
      "    ,                         !- Thickness\n",
      "    ,                         !- Conductivity\n",
      "    ,                         !- Density\n",
      "    ,                         !- Specific Heat\n",
      "    0.9,                      !- Thermal Absorptance\n",
      "    0.7,                      !- Solar Absorptance\n",
      "    0.7;                      !- Visible Absorptance\n",
      ", \n",
      "MATERIAL,                 \n",
      "    third material,           !- Name\n",
      "    ,                         !- Roughness\n",
      "    ,                         !- Thickness\n",
      "    ,                         !- Conductivity\n",
      "    ,                         !- Density\n",
      "    ,                         !- Specific Heat\n",
      "    0.9,                      !- Thermal Absorptance\n",
      "    0.7,                      !- Solar Absorptance\n",
      "    0.7;                      !- Visible Absorptance\n",
      "]\n"
     ]
    }
   ],
   "source": [
    "print idf.idfobjects['MATERIAL']\n"
   ]
  },
  {
   "cell_type": "markdown",
   "metadata": {},
   "source": [
    "You can see that the second material is gone ! Now let us remove the first material, but do it using a different function"
   ]
  },
  {
   "cell_type": "code",
   "execution_count": 30,
   "metadata": {
    "collapsed": false
   },
   "outputs": [],
   "source": [
    "firstmaterial = idf.idfobjects['MATERIAL'][-1]\n"
   ]
  },
  {
   "cell_type": "code",
   "execution_count": 31,
   "metadata": {
    "collapsed": false
   },
   "outputs": [
    {
     "data": {
      "text/plain": [
       "['MATERIAL', 'third material', '', '', '', '', '', 0.9, 0.7, 0.7]"
      ]
     },
     "execution_count": 31,
     "metadata": {},
     "output_type": "execute_result"
    }
   ],
   "source": [
    "idf.removeidfobject(firstmaterial)\n"
   ]
  },
  {
   "cell_type": "code",
   "execution_count": 32,
   "metadata": {
    "collapsed": false
   },
   "outputs": [
    {
     "name": "stdout",
     "output_type": "stream",
     "text": [
      "[\n",
      "MATERIAL,                 \n",
      "    Shiny new material object,    !- Name\n",
      "    ,                         !- Roughness\n",
      "    ,                         !- Thickness\n",
      "    ,                         !- Conductivity\n",
      "    ,                         !- Density\n",
      "    ,                         !- Specific Heat\n",
      "    0.9,                      !- Thermal Absorptance\n",
      "    0.7,                      !- Solar Absorptance\n",
      "    0.7;                      !- Visible Absorptance\n",
      "]\n"
     ]
    }
   ],
   "source": [
    "print idf.idfobjects['MATERIAL']\n"
   ]
  },
  {
   "cell_type": "markdown",
   "metadata": {},
   "source": [
    "So we have two ways of deleting an idf object:\n",
    "\n",
    "1. popidfobject -> give it the idf key: \"MATERIAL\", and the index number\n",
    "2. removeidfobject -> give it the idf object to be deleted"
   ]
  },
  {
   "cell_type": "markdown",
   "metadata": {},
   "source": [
    "### Copying/Adding an idf object"
   ]
  },
  {
   "cell_type": "markdown",
   "metadata": {},
   "source": [
    "Having deleted two \"MATERIAL\" objects, we have only one left. Let us make a copy of this object and add it to our idf file"
   ]
  },
  {
   "cell_type": "code",
   "execution_count": 33,
   "metadata": {
    "collapsed": false
   },
   "outputs": [],
   "source": [
    "onlymaterial = idf.idfobjects[\"MATERIAL\"][0]"
   ]
  },
  {
   "cell_type": "code",
   "execution_count": 34,
   "metadata": {
    "collapsed": false
   },
   "outputs": [],
   "source": [
    "idf.copyidfobject(onlymaterial)"
   ]
  },
  {
   "cell_type": "code",
   "execution_count": 35,
   "metadata": {
    "collapsed": false
   },
   "outputs": [
    {
     "name": "stdout",
     "output_type": "stream",
     "text": [
      "[\n",
      "MATERIAL,                 \n",
      "    Shiny new material object,    !- Name\n",
      "    ,                         !- Roughness\n",
      "    ,                         !- Thickness\n",
      "    ,                         !- Conductivity\n",
      "    ,                         !- Density\n",
      "    ,                         !- Specific Heat\n",
      "    0.9,                      !- Thermal Absorptance\n",
      "    0.7,                      !- Solar Absorptance\n",
      "    0.7;                      !- Visible Absorptance\n",
      ", \n",
      "MATERIAL,                 \n",
      "    Shiny new material object,    !- Name\n",
      "    ,                         !- Roughness\n",
      "    ,                         !- Thickness\n",
      "    ,                         !- Conductivity\n",
      "    ,                         !- Density\n",
      "    ,                         !- Specific Heat\n",
      "    0.9,                      !- Thermal Absorptance\n",
      "    0.7,                      !- Solar Absorptance\n",
      "    0.7;                      !- Visible Absorptance\n",
      "]\n"
     ]
    }
   ],
   "source": [
    "print idf.idfobjects[\"MATERIAL\"]"
   ]
  },
  {
   "cell_type": "markdown",
   "metadata": {},
   "source": [
    "So now we have a copy of the material. You can use this method to copy idf objects from other idf files too."
   ]
  },
  {
   "cell_type": "markdown",
   "metadata": {},
   "source": [
    "## Making an idf object with named arguments"
   ]
  },
  {
   "cell_type": "markdown",
   "metadata": {},
   "source": [
    "What if we wanted to make an idf object with values for it's fields? We can do that too."
   ]
  },
  {
   "cell_type": "markdown",
   "metadata": {},
   "source": [
    "## Renaming an idf object"
   ]
  },
  {
   "cell_type": "code",
   "execution_count": 36,
   "metadata": {
    "collapsed": false
   },
   "outputs": [],
   "source": [
    "gypboard = idf.newidfobject('MATERIAL', Name=\"G01a 19mm gypsum board\",\n",
    "                            Roughness=\"MediumSmooth\",\n",
    "                            Thickness=0.019,\n",
    "                            Conductivity=0.16,\n",
    "                            Density=800,\n",
    "                            Specific_Heat=1090)"
   ]
  },
  {
   "cell_type": "code",
   "execution_count": 37,
   "metadata": {
    "collapsed": false
   },
   "outputs": [
    {
     "name": "stdout",
     "output_type": "stream",
     "text": [
      "\n",
      "MATERIAL,                 \n",
      "    G01a 19mm gypsum board,    !- Name\n",
      "    MediumSmooth,             !- Roughness\n",
      "    0.019,                    !- Thickness\n",
      "    0.16,                     !- Conductivity\n",
      "    800,                      !- Density\n",
      "    1090,                     !- Specific Heat\n",
      "    0.9,                      !- Thermal Absorptance\n",
      "    0.7,                      !- Solar Absorptance\n",
      "    0.7;                      !- Visible Absorptance\n",
      "\n"
     ]
    }
   ],
   "source": [
    "print gypboard"
   ]
  },
  {
   "cell_type": "markdown",
   "metadata": {},
   "source": [
    "newidfobject() also fills in the default values like \"Thermal Absorptance\", \"Solar Absorptance\", etc."
   ]
  },
  {
   "cell_type": "code",
   "execution_count": 38,
   "metadata": {
    "collapsed": false
   },
   "outputs": [
    {
     "name": "stdout",
     "output_type": "stream",
     "text": [
      "[\n",
      "MATERIAL,                 \n",
      "    Shiny new material object,    !- Name\n",
      "    ,                         !- Roughness\n",
      "    ,                         !- Thickness\n",
      "    ,                         !- Conductivity\n",
      "    ,                         !- Density\n",
      "    ,                         !- Specific Heat\n",
      "    0.9,                      !- Thermal Absorptance\n",
      "    0.7,                      !- Solar Absorptance\n",
      "    0.7;                      !- Visible Absorptance\n",
      ", \n",
      "MATERIAL,                 \n",
      "    Shiny new material object,    !- Name\n",
      "    ,                         !- Roughness\n",
      "    ,                         !- Thickness\n",
      "    ,                         !- Conductivity\n",
      "    ,                         !- Density\n",
      "    ,                         !- Specific Heat\n",
      "    0.9,                      !- Thermal Absorptance\n",
      "    0.7,                      !- Solar Absorptance\n",
      "    0.7;                      !- Visible Absorptance\n",
      ", \n",
      "MATERIAL,                 \n",
      "    G01a 19mm gypsum board,    !- Name\n",
      "    MediumSmooth,             !- Roughness\n",
      "    0.019,                    !- Thickness\n",
      "    0.16,                     !- Conductivity\n",
      "    800,                      !- Density\n",
      "    1090,                     !- Specific Heat\n",
      "    0.9,                      !- Thermal Absorptance\n",
      "    0.7,                      !- Solar Absorptance\n",
      "    0.7;                      !- Visible Absorptance\n",
      "]\n"
     ]
    }
   ],
   "source": [
    "print idf.idfobjects[\"MATERIAL\"]"
   ]
  },
  {
   "cell_type": "markdown",
   "metadata": {},
   "source": [
    "## Renaming an idf object"
   ]
  },
  {
   "cell_type": "markdown",
   "metadata": {},
   "source": [
    "It is easy to rename an idf object. If we want to rename the gypboard object that we created above, we simply say:\n"
   ]
  },
  {
   "cell_type": "raw",
   "metadata": {},
   "source": [
    "    gypboard.Name = \"a new name\".\n"
   ]
  },
  {
   "cell_type": "markdown",
   "metadata": {},
   "source": [
    "But this could create a problem. What if this gypboard is part of a \"CONSTRUCTION\" object. The construction object will refer to the gypboard by name. If we change the name of the gypboard, we should change it in the construction object. \n",
    "\n",
    "But there may be many constructions objects using the gypboard. Now we will have to change it in all those construction objects. Sounds painfull. \n",
    "\n",
    "Let us try this with an example:"
   ]
  },
  {
   "cell_type": "code",
   "execution_count": 39,
   "metadata": {
    "collapsed": false
   },
   "outputs": [
    {
     "name": "stdout",
     "output_type": "stream",
     "text": [
      "\n",
      "CONSTRUCTION,             \n",
      "    Interior Wall,            !- Name\n",
      "    G01a 19mm gypsum board,    !- Outside Layer\n",
      "    Shiny new material object,    !- Layer 2\n",
      "    G01a 19mm gypsum board;    !- Layer 3\n",
      "\n"
     ]
    }
   ],
   "source": [
    "interiorwall = idf.newidfobject(\"CONSTRUCTION\", Name=\"Interior Wall\",\n",
    "                 Outside_Layer=\"G01a 19mm gypsum board\",\n",
    "                 Layer_2=\"Shiny new material object\",\n",
    "                 Layer_3=\"G01a 19mm gypsum board\")\n",
    "print interiorwall\n"
   ]
  },
  {
   "cell_type": "markdown",
   "metadata": {},
   "source": [
    "to rename gypboard and have that name change in all the places we call modeleditor.rename(idf, key, oldname, newname)"
   ]
  },
  {
   "cell_type": "code",
   "execution_count": 40,
   "metadata": {
    "collapsed": false
   },
   "outputs": [
    {
     "data": {
      "text/plain": [
       "\n",
       "MATERIAL,                 \n",
       "    peanut butter,            !- Name\n",
       "    MediumSmooth,             !- Roughness\n",
       "    0.019,                    !- Thickness\n",
       "    0.16,                     !- Conductivity\n",
       "    800,                      !- Density\n",
       "    1090,                     !- Specific Heat\n",
       "    0.9,                      !- Thermal Absorptance\n",
       "    0.7,                      !- Solar Absorptance\n",
       "    0.7;                      !- Visible Absorptance\n"
      ]
     },
     "execution_count": 40,
     "metadata": {},
     "output_type": "execute_result"
    }
   ],
   "source": [
    "modeleditor.rename(idf, \"MATERIAL\", \"G01a 19mm gypsum board\", \"peanut butter\")"
   ]
  },
  {
   "cell_type": "code",
   "execution_count": 41,
   "metadata": {
    "collapsed": false
   },
   "outputs": [
    {
     "name": "stdout",
     "output_type": "stream",
     "text": [
      "\n",
      "CONSTRUCTION,             \n",
      "    Interior Wall,            !- Name\n",
      "    peanut butter,            !- Outside Layer\n",
      "    Shiny new material object,    !- Layer 2\n",
      "    peanut butter;            !- Layer 3\n",
      "\n"
     ]
    }
   ],
   "source": [
    "print interiorwall"
   ]
  },
  {
   "cell_type": "markdown",
   "metadata": {},
   "source": [
    "Now we have \"peanut butter\" everywhere. At least where we need it. Let us look at the entir idf file, just to be sure"
   ]
  },
  {
   "cell_type": "code",
   "execution_count": 42,
   "metadata": {
    "collapsed": false
   },
   "outputs": [
    {
     "name": "stdout",
     "output_type": "stream",
     "text": [
      "\n",
      "MATERIAL,                 \n",
      "    Shiny new material object,    !- Name\n",
      "    ,                         !- Roughness\n",
      "    ,                         !- Thickness\n",
      "    ,                         !- Conductivity\n",
      "    ,                         !- Density\n",
      "    ,                         !- Specific Heat\n",
      "    0.9,                      !- Thermal Absorptance\n",
      "    0.7,                      !- Solar Absorptance\n",
      "    0.7;                      !- Visible Absorptance\n",
      "\n",
      "MATERIAL,                 \n",
      "    Shiny new material object,    !- Name\n",
      "    ,                         !- Roughness\n",
      "    ,                         !- Thickness\n",
      "    ,                         !- Conductivity\n",
      "    ,                         !- Density\n",
      "    ,                         !- Specific Heat\n",
      "    0.9,                      !- Thermal Absorptance\n",
      "    0.7,                      !- Solar Absorptance\n",
      "    0.7;                      !- Visible Absorptance\n",
      "\n",
      "MATERIAL,                 \n",
      "    peanut butter,            !- Name\n",
      "    MediumSmooth,             !- Roughness\n",
      "    0.019,                    !- Thickness\n",
      "    0.16,                     !- Conductivity\n",
      "    800,                      !- Density\n",
      "    1090,                     !- Specific Heat\n",
      "    0.9,                      !- Thermal Absorptance\n",
      "    0.7,                      !- Solar Absorptance\n",
      "    0.7;                      !- Visible Absorptance\n",
      "\n",
      "CONSTRUCTION,             \n",
      "    Interior Wall,            !- Name\n",
      "    peanut butter,            !- Outside Layer\n",
      "    Shiny new material object,    !- Layer 2\n",
      "    peanut butter;            !- Layer 3\n",
      "\n"
     ]
    }
   ],
   "source": [
    "idf.printidf()"
   ]
  },
  {
   "cell_type": "markdown",
   "metadata": {},
   "source": [
    "## Zone area and volume"
   ]
  },
  {
   "cell_type": "markdown",
   "metadata": {},
   "source": [
    "The idf file has zones with surfaces and windows. It is easy to get the attributes of the surfaces and windows as we have seen in the tutorial. Let us review this once more:\n"
   ]
  },
  {
   "cell_type": "code",
   "execution_count": 43,
   "metadata": {
    "collapsed": false
   },
   "outputs": [],
   "source": [
    "from eppy import modeleditor \n",
    "from eppy.modeleditor import IDF\n",
    "iddfile = \"../eppy/resources/iddfiles/Energy+V7_2_0.idd\"\n",
    "fname1 = \"../eppy/resources/idffiles/V_7_2/box.idf\"\n",
    "# IDF.setiddname(iddfile)"
   ]
  },
  {
   "cell_type": "code",
   "execution_count": 44,
   "metadata": {
    "collapsed": false
   },
   "outputs": [],
   "source": [
    "idf = IDF(fname1)"
   ]
  },
  {
   "cell_type": "code",
   "execution_count": 45,
   "metadata": {
    "collapsed": false
   },
   "outputs": [
    {
     "name": "stdout",
     "output_type": "stream",
     "text": [
      "area = 30.0\n",
      "tilt = 180.0\n",
      "azimuth = 0.0\n"
     ]
    }
   ],
   "source": [
    "surfaces = idf.idfobjects[\"BuildingSurface:Detailed\".upper()]\n",
    "surface = surfaces[0]\n",
    "print \"area = %s\" % (surface.area, )\n",
    "print \"tilt = %s\" % (surface.tilt, )\n",
    "print \"azimuth = %s\" % (surface.azimuth, )"
   ]
  },
  {
   "cell_type": "markdown",
   "metadata": {},
   "source": [
    "Can we do the same for zones ? \n",
    "\n",
    "Not yet .. not yet. Not in this version on eppy\n",
    "\n",
    "But we can still get the area and volume of the zone\n"
   ]
  },
  {
   "cell_type": "code",
   "execution_count": 46,
   "metadata": {
    "collapsed": false
   },
   "outputs": [
    {
     "name": "stdout",
     "output_type": "stream",
     "text": [
      "zone area = 30.0\n",
      "zone volume = 90.0\n"
     ]
    }
   ],
   "source": [
    "zones = idf.idfobjects[\"ZONE\"]\n",
    "zone = zones[0]\n",
    "area = modeleditor.zonearea(idf, zone.Name)\n",
    "volume = modeleditor.zonevolume(idf, zone.Name)\n",
    "print \"zone area = %s\" % (area, )\n",
    "print \"zone volume = %s\" % (volume, )"
   ]
  },
  {
   "cell_type": "markdown",
   "metadata": {},
   "source": [
    "Not as slick, but still pretty easy"
   ]
  },
  {
   "cell_type": "markdown",
   "metadata": {},
   "source": [
    "Some notes on the zone area calculation:\n",
    "\n",
    "- area is calculated by summing up all the areas of the floor surfaces\n",
    "- if there are no floors, then the sum of ceilings and roof is taken as zone area\n",
    "- if there are no floors, ceilings or roof, we are out of luck. The function returns 0"
   ]
  }
 ],
 "metadata": {
  "kernelspec": {
   "display_name": "Python 2",
   "language": "python",
   "name": "python2"
  },
  "language_info": {
   "codemirror_mode": {
    "name": "ipython",
    "version": 2
   },
   "file_extension": ".py",
   "mimetype": "text/x-python",
   "name": "python",
   "nbconvert_exporter": "python",
   "pygments_lexer": "ipython2",
   "version": "2.7.10"
  }
 },
 "nbformat": 4,
 "nbformat_minor": 0
}
