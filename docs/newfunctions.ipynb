{
 "metadata": {
  "name": ""
 },
 "nbformat": 3,
 "nbformat_minor": 0,
 "worksheets": [
  {
   "cells": [
    {
     "cell_type": "heading",
     "level": 1,
     "metadata": {},
     "source": [
      "New functions"
     ]
    },
    {
     "cell_type": "markdown",
     "metadata": {},
     "source": [
      "These are recently written functions that have not made it into the main documentation"
     ]
    },
    {
     "cell_type": "heading",
     "level": 2,
     "metadata": {},
     "source": [
      "Python Lesson: Errors and Exceptions"
     ]
    },
    {
     "cell_type": "code",
     "collapsed": false,
     "input": [
      "# you would normaly install eppy by doing\n",
      "# python setup.py install\n",
      "# or\n",
      "# pip install eppy\n",
      "# or\n",
      "# easy_install eppy\n",
      "\n",
      "# if you have not done so, uncomment the following three lines\n",
      "import sys\n",
      "# pathnameto_eppy = 'c:/eppy'\n",
      "pathnameto_eppy = '../'\n",
      "sys.path.append(pathnameto_eppy) \n"
     ],
     "language": "python",
     "metadata": {},
     "outputs": [],
     "prompt_number": 5
    },
    {
     "cell_type": "markdown",
     "metadata": {},
     "source": [
      "When things go wrong in your eppy script, you get \"Errors and Exceptions\". \n",
      "\n",
      "To know more about how this works in python and eppy, take a look at [Python: Errors and Exceptions](http://docs.python.org/2/tutorial/errors.html)"
     ]
    },
    {
     "cell_type": "heading",
     "level": 2,
     "metadata": {},
     "source": [
      "Setting IDD name"
     ]
    },
    {
     "cell_type": "markdown",
     "metadata": {},
     "source": [
      "When you work with Energyplus you are working with **idf** files (files that have the extension \\*.idf). There is another file that is very important, called the **idd** file. This is the file that defines all the objects in Energyplus. Esch version of Energyplus has a different **idd** file. \n",
      "\n",
      "So eppy needs to know which **idd** file to use. Only one **idd** file can be used in a script or program. This means that you cannot change the **idd** file once you have selected it. Of course you have to first select an **idd** file before eppy can work.\n",
      "\n",
      "If you use eppy and break the above rules, eppy will raise an exception. So let us use eppy incorrectly and make eppy raise the exception, just see how that happens.\n",
      "\n",
      "First let us try to open an **idf** file without setting an **idd** file."
     ]
    },
    {
     "cell_type": "code",
     "collapsed": false,
     "input": [
      "from eppy import modeleditor \n",
      "from eppy.modeleditor import IDF\n",
      "fname1 = \"../eppy/resources/idffiles/V_7_2/smallfile.idf\"\n"
     ],
     "language": "python",
     "metadata": {},
     "outputs": [],
     "prompt_number": 6
    },
    {
     "cell_type": "markdown",
     "metadata": {},
     "source": [
      "Now let us open file fname1 without setting the **idd** file"
     ]
    },
    {
     "cell_type": "code",
     "collapsed": false,
     "input": [
      "try:\n",
      "    idf1 = IDF(fname1)\n",
      "except Exception, e:\n",
      "    raise e\n",
      "    "
     ],
     "language": "python",
     "metadata": {},
     "outputs": [
      {
       "ename": "IDDNotSetError",
       "evalue": "IDD file needed to read the idf file. Set it using IDF.setiddname(iddfile)",
       "output_type": "pyerr",
       "traceback": [
        "\u001b[0;31m---------------------------------------------------------------------------\u001b[0m\n\u001b[0;31mIDDNotSetError\u001b[0m                            Traceback (most recent call last)",
        "\u001b[0;32m<ipython-input-7-44ad2b53d42c>\u001b[0m in \u001b[0;36m<module>\u001b[0;34m()\u001b[0m\n\u001b[1;32m      2\u001b[0m     \u001b[0midf1\u001b[0m \u001b[0;34m=\u001b[0m \u001b[0mIDF\u001b[0m\u001b[0;34m(\u001b[0m\u001b[0mfname1\u001b[0m\u001b[0;34m)\u001b[0m\u001b[0;34m\u001b[0m\u001b[0m\n\u001b[1;32m      3\u001b[0m \u001b[0;32mexcept\u001b[0m \u001b[0mException\u001b[0m\u001b[0;34m,\u001b[0m \u001b[0me\u001b[0m\u001b[0;34m:\u001b[0m\u001b[0;34m\u001b[0m\u001b[0m\n\u001b[0;32m----> 4\u001b[0;31m     \u001b[0;32mraise\u001b[0m \u001b[0me\u001b[0m\u001b[0;34m\u001b[0m\u001b[0m\n\u001b[0m\u001b[1;32m      5\u001b[0m \u001b[0;34m\u001b[0m\u001b[0m\n",
        "\u001b[0;31mIDDNotSetError\u001b[0m: IDD file needed to read the idf file. Set it using IDF.setiddname(iddfile)"
       ]
      }
     ],
     "prompt_number": 7
    },
    {
     "cell_type": "markdown",
     "metadata": {},
     "source": [
      "OK. It does not let you do that and it raises an exception\n",
      "\n",
      "So let us set the **idd** file and then open the idf file"
     ]
    },
    {
     "cell_type": "code",
     "collapsed": false,
     "input": [
      "iddfile = \"../eppy/resources/iddfiles/Energy+V7_2_0.idd\"\n",
      "IDF.setiddname(iddfile)\n",
      "idf1 = IDF(fname1)\n"
     ],
     "language": "python",
     "metadata": {},
     "outputs": [],
     "prompt_number": 8
    },
    {
     "cell_type": "markdown",
     "metadata": {},
     "source": [
      "That worked without raising an exception\n",
      "\n",
      "Now let us try to change the **idd** file. Eppy should not let you do this and should raise an exception."
     ]
    },
    {
     "cell_type": "code",
     "collapsed": false,
     "input": [
      "try:\n",
      "    IDF.setiddname(\"anotheridd.idd\")\n",
      "except Exception, e:\n",
      "    raise e   \n",
      "    "
     ],
     "language": "python",
     "metadata": {},
     "outputs": [
      {
       "ename": "IDDAlreadySetError",
       "evalue": "IDD file is set to: ../eppy/resources/iddfiles/Energy+V7_2_0.idd",
       "output_type": "pyerr",
       "traceback": [
        "\u001b[0;31m---------------------------------------------------------------------------\u001b[0m\n\u001b[0;31mIDDAlreadySetError\u001b[0m                        Traceback (most recent call last)",
        "\u001b[0;32m<ipython-input-9-52df819ac489>\u001b[0m in \u001b[0;36m<module>\u001b[0;34m()\u001b[0m\n\u001b[1;32m      2\u001b[0m     \u001b[0mIDF\u001b[0m\u001b[0;34m.\u001b[0m\u001b[0msetiddname\u001b[0m\u001b[0;34m(\u001b[0m\u001b[0;34m\"anotheridd.idd\"\u001b[0m\u001b[0;34m)\u001b[0m\u001b[0;34m\u001b[0m\u001b[0m\n\u001b[1;32m      3\u001b[0m \u001b[0;32mexcept\u001b[0m \u001b[0mException\u001b[0m\u001b[0;34m,\u001b[0m \u001b[0me\u001b[0m\u001b[0;34m:\u001b[0m\u001b[0;34m\u001b[0m\u001b[0m\n\u001b[0;32m----> 4\u001b[0;31m     \u001b[0;32mraise\u001b[0m \u001b[0me\u001b[0m\u001b[0;34m\u001b[0m\u001b[0m\n\u001b[0m\u001b[1;32m      5\u001b[0m \u001b[0;34m\u001b[0m\u001b[0m\n",
        "\u001b[0;31mIDDAlreadySetError\u001b[0m: IDD file is set to: ../eppy/resources/iddfiles/Energy+V7_2_0.idd"
       ]
      }
     ],
     "prompt_number": 9
    },
    {
     "cell_type": "markdown",
     "metadata": {},
     "source": [
      "Excellent!! It raised the exception we were expecting."
     ]
    },
    {
     "cell_type": "heading",
     "level": 2,
     "metadata": {},
     "source": [
      "Check range for fields"
     ]
    },
    {
     "cell_type": "markdown",
     "metadata": {},
     "source": [
      "The fields of idf objects often have a range of legal values. The following functions will let you discover what that range is and test if your value lies within that range"
     ]
    },
    {
     "cell_type": "markdown",
     "metadata": {},
     "source": [
      "demonstrate two new functions:\n",
      "\n",
      "- EpBunch.getrange(fieldname) # will return the ranges for that field\n",
      "- EpBunch.checkrange(fieldname) # will throw an exception if the value is outside the range"
     ]
    },
    {
     "cell_type": "code",
     "collapsed": false,
     "input": [
      "from eppy import modeleditor \n",
      "from eppy.modeleditor import IDF\n",
      "iddfile = \"../eppy/resources/iddfiles/Energy+V7_2_0.idd\"\n",
      "fname1 = \"../eppy/resources/idffiles/V_7_2/smallfile.idf\"\n"
     ],
     "language": "python",
     "metadata": {},
     "outputs": []
    },
    {
     "cell_type": "code",
     "collapsed": false,
     "input": [
      "# IDF.setiddname(iddfile)# idd ws set further up in this page\n",
      "idf1 = IDF(fname1)\n"
     ],
     "language": "python",
     "metadata": {},
     "outputs": []
    },
    {
     "cell_type": "code",
     "collapsed": false,
     "input": [
      "building = idf1.idfobjects['building'.upper()][0]\n",
      "print building\n"
     ],
     "language": "python",
     "metadata": {},
     "outputs": []
    },
    {
     "cell_type": "code",
     "collapsed": false,
     "input": [
      "print building.getrange(\"Loads_Convergence_Tolerance_Value\")\n"
     ],
     "language": "python",
     "metadata": {},
     "outputs": []
    },
    {
     "cell_type": "code",
     "collapsed": false,
     "input": [
      "print building.checkrange(\"Loads_Convergence_Tolerance_Value\")\n"
     ],
     "language": "python",
     "metadata": {},
     "outputs": []
    },
    {
     "cell_type": "markdown",
     "metadata": {},
     "source": [
      "Let us set these values outside the range and see what happens"
     ]
    },
    {
     "cell_type": "code",
     "collapsed": false,
     "input": [
      "building.Loads_Convergence_Tolerance_Value = 0.6\n",
      "from eppy.bunch_subclass import RangeError\n",
      "try:\n",
      "    print building.checkrange(\"Loads_Convergence_Tolerance_Value\")\n",
      "except RangeError, e:\n",
      "    raise e\n",
      "    "
     ],
     "language": "python",
     "metadata": {},
     "outputs": []
    },
    {
     "cell_type": "markdown",
     "metadata": {},
     "source": [
      "So the Range Check works"
     ]
    },
    {
     "cell_type": "heading",
     "level": 2,
     "metadata": {},
     "source": [
      "Looping through all the fields in an idf object"
     ]
    },
    {
     "cell_type": "markdown",
     "metadata": {},
     "source": [
      "We have seen how to check the range of field in the idf object. What if you want to do a *range check* on all the fields in an idf object ? To do this we will need a list of all the fields in the idf object. We can do this easily by the following line"
     ]
    },
    {
     "cell_type": "code",
     "collapsed": false,
     "input": [
      "print building.fieldnames\n"
     ],
     "language": "python",
     "metadata": {},
     "outputs": []
    },
    {
     "cell_type": "markdown",
     "metadata": {},
     "source": [
      "So let us use this"
     ]
    },
    {
     "cell_type": "code",
     "collapsed": false,
     "input": [
      "for fieldname in building.fieldnames:\n",
      "    print \"%s = %s\" % (fieldname, building[fieldname])\n",
      "    "
     ],
     "language": "python",
     "metadata": {},
     "outputs": []
    },
    {
     "cell_type": "markdown",
     "metadata": {},
     "source": [
      "Now let us test if the values are in the legal range. We know that \"Loads_Convergence_Tolerance_Value\" is out of range"
     ]
    },
    {
     "cell_type": "code",
     "collapsed": false,
     "input": [
      "from eppy.bunch_subclass import RangeError\n",
      "for fieldname in building.fieldnames:\n",
      "    try:\n",
      "        building.checkrange(fieldname)\n",
      "        print \"%s = %s #-in range\" % (fieldname, building[fieldname],)\n",
      "    except RangeError as e:\n",
      "        print \"%s = %s #-****OUT OF RANGE****\" % (fieldname, building[fieldname],)\n",
      "        "
     ],
     "language": "python",
     "metadata": {},
     "outputs": []
    },
    {
     "cell_type": "markdown",
     "metadata": {},
     "source": [
      "You see, we caught the out of range value"
     ]
    },
    {
     "cell_type": "heading",
     "level": 2,
     "metadata": {},
     "source": [
      "Blank idf file"
     ]
    },
    {
     "cell_type": "markdown",
     "metadata": {},
     "source": [
      "Until now in all our examples, we have been reading an idf file from disk:\n",
      "\n",
      "- How do I create a blank new idf file  \n",
      "- give it a file name\n",
      "- Save it to the disk\n",
      "\n",
      "Here are the steps to do that"
     ]
    },
    {
     "cell_type": "code",
     "collapsed": false,
     "input": [
      "# some initial steps\n",
      "from eppy.modeleditor import IDF\n",
      "iddfile = \"../eppy/resources/iddfiles/Energy+V7_2_0.idd\"\n",
      "# IDF.setiddname(iddfile) # Has already been set \n",
      "\n",
      "# - Let us first open a file from the disk\n",
      "fname1 = \"../eppy/resources/idffiles/V_7_2/smallfile.idf\"\n",
      "idf_fromfilename = IDF(fname1) # initialize the IDF object with the file name\n",
      "\n",
      "idf_fromfilename.printidf()\n"
     ],
     "language": "python",
     "metadata": {},
     "outputs": []
    },
    {
     "cell_type": "code",
     "collapsed": false,
     "input": [
      "# - now let us open a file from the disk differently\n",
      "fname1 = \"../eppy/resources/idffiles/V_7_2/smallfile.idf\"\n",
      "fhandle = open(fname1, 'r') # open the file for reading and assign it a file handle\n",
      "idf_fromfilehandle = IDF(fhandle) # initialize the IDF object with the file handle\n",
      "\n",
      "idf_fromfilehandle.printidf()\n"
     ],
     "language": "python",
     "metadata": {},
     "outputs": []
    },
    {
     "cell_type": "code",
     "collapsed": false,
     "input": [
      "# So IDF object can be initialized with either a file name or a file handle\n",
      "\n",
      "# - How do I create a blank new idf file  \n",
      "idftxt = \"\" # empty string\n",
      "from StringIO import StringIO\n",
      "fhandle = StringIO(idftxt) # we can make a file handle of a string\n",
      "idf_emptyfile = IDF(fhandle) # initialize the IDF object with the file handle\n",
      "\n",
      "idf_emptyfile.printidf()"
     ],
     "language": "python",
     "metadata": {},
     "outputs": []
    },
    {
     "cell_type": "markdown",
     "metadata": {},
     "source": [
      "\n",
      "It did not print anything. Why should it. It was empty. \n",
      "\n",
      "What if we give it a string that was not blank"
     ]
    },
    {
     "cell_type": "code",
     "collapsed": false,
     "input": [
      "# - The string does not have to be blank\n",
      "idftxt = \"VERSION, 7.3;\" # Not an emplty string. has just the version number\n",
      "fhandle = StringIO(idftxt) # we can make a file handle of a string\n",
      "idf_notemptyfile = IDF(fhandle) # initialize the IDF object with the file handle\n",
      "\n",
      "idf_notemptyfile.printidf()\n"
     ],
     "language": "python",
     "metadata": {},
     "outputs": []
    },
    {
     "cell_type": "markdown",
     "metadata": {},
     "source": [
      "Aha !\n",
      "\n",
      "Now let us give it a file name"
     ]
    },
    {
     "cell_type": "code",
     "collapsed": false,
     "input": [
      "# - give it a file name\n",
      "idf_notemptyfile.idfname = \"notemptyfile.idf\"\n",
      "# - Save it to the disk\n",
      "idf_notemptyfile.save()\n"
     ],
     "language": "python",
     "metadata": {},
     "outputs": []
    },
    {
     "cell_type": "markdown",
     "metadata": {},
     "source": [
      "Let us confirm that the file was saved to disk"
     ]
    },
    {
     "cell_type": "code",
     "collapsed": false,
     "input": [
      "txt = open(\"notemptyfile.idf\", 'r').read()# read the file from the disk\n",
      "print txt\n"
     ],
     "language": "python",
     "metadata": {},
     "outputs": []
    },
    {
     "cell_type": "markdown",
     "metadata": {},
     "source": [
      "Yup ! that file was saved. Let us delete it since we were just playing"
     ]
    },
    {
     "cell_type": "code",
     "collapsed": false,
     "input": [
      "import os\n",
      "os.remove(\"notemptyfile.idf\")\n"
     ],
     "language": "python",
     "metadata": {},
     "outputs": []
    },
    {
     "cell_type": "heading",
     "level": 2,
     "metadata": {},
     "source": [
      "Deleting, copying/adding and making new idfobjects"
     ]
    },
    {
     "cell_type": "heading",
     "level": 3,
     "metadata": {},
     "source": [
      "Making a new idf object"
     ]
    },
    {
     "cell_type": "markdown",
     "metadata": {},
     "source": [
      "Let us start with a blank idf file and make some new \"MATERIAL\" objects in it"
     ]
    },
    {
     "cell_type": "code",
     "collapsed": false,
     "input": [
      "# making a blank idf object\n",
      "blankstr = \"\"\n",
      "from StringIO import StringIO\n",
      "idf = IDF(StringIO(blankstr))\n"
     ],
     "language": "python",
     "metadata": {},
     "outputs": []
    },
    {
     "cell_type": "markdown",
     "metadata": {},
     "source": [
      "To make and add a new idfobject object, we use the function IDF.newidfobject(). We want to make an object of type \"MATERIAL\""
     ]
    },
    {
     "cell_type": "code",
     "collapsed": false,
     "input": [
      "newobject = idf.newidfobject(\"material\".upper()) # the key for the object type has to be in upper case\n",
      "                                     # .upper() makes it upper case\n",
      "    "
     ],
     "language": "python",
     "metadata": {},
     "outputs": []
    },
    {
     "cell_type": "code",
     "collapsed": false,
     "input": [
      "print newobject\n"
     ],
     "language": "python",
     "metadata": {},
     "outputs": []
    },
    {
     "cell_type": "markdown",
     "metadata": {},
     "source": [
      "Let us give this a name, say \"Shiny new material object\""
     ]
    },
    {
     "cell_type": "code",
     "collapsed": false,
     "input": [
      "newobject.Name = \"Shiny new material object\"\n",
      "print newobject\n"
     ],
     "language": "python",
     "metadata": {},
     "outputs": []
    },
    {
     "cell_type": "code",
     "collapsed": false,
     "input": [
      "anothermaterial = idf.newidfobject(\"material\".upper())\n",
      "anothermaterial.Name = \"Lousy material\"\n",
      "thirdmaterial = idf.newidfobject(\"material\".upper())\n",
      "thirdmaterial.Name = \"third material\"\n",
      "print thirdmaterial\n"
     ],
     "language": "python",
     "metadata": {},
     "outputs": []
    },
    {
     "cell_type": "markdown",
     "metadata": {},
     "source": [
      "Let us look at all the \"MATERIAL\" objects"
     ]
    },
    {
     "cell_type": "code",
     "collapsed": false,
     "input": [
      "print idf.idfobjects[\"MATERIAL\"]\n"
     ],
     "language": "python",
     "metadata": {},
     "outputs": []
    },
    {
     "cell_type": "markdown",
     "metadata": {},
     "source": [
      "As we can see there are three MATERIAL idfobjects. They are:\n",
      "\n",
      "1. Shiny new material object\n",
      "2. Lousy material\n",
      "3. third material"
     ]
    },
    {
     "cell_type": "heading",
     "level": 3,
     "metadata": {},
     "source": [
      "Deleting an idf object"
     ]
    },
    {
     "cell_type": "markdown",
     "metadata": {},
     "source": [
      "Let us remove 2. Lousy material. It is the second material in the list. So let us remove the second material"
     ]
    },
    {
     "cell_type": "code",
     "collapsed": false,
     "input": [
      "idf.popidfobject('MATERIAL', 1) # first material is '0', second is '1'\n"
     ],
     "language": "python",
     "metadata": {},
     "outputs": []
    },
    {
     "cell_type": "code",
     "collapsed": false,
     "input": [
      "print idf.idfobjects['MATERIAL']\n"
     ],
     "language": "python",
     "metadata": {},
     "outputs": []
    },
    {
     "cell_type": "markdown",
     "metadata": {},
     "source": [
      "You can see that the second material is gone ! Now let us remove the first material, but do it using a different function"
     ]
    },
    {
     "cell_type": "code",
     "collapsed": false,
     "input": [
      "firstmaterial = idf.idfobjects['MATERIAL'][-1]\n"
     ],
     "language": "python",
     "metadata": {},
     "outputs": []
    },
    {
     "cell_type": "code",
     "collapsed": false,
     "input": [
      "idf.removeidfobject(firstmaterial)\n"
     ],
     "language": "python",
     "metadata": {},
     "outputs": []
    },
    {
     "cell_type": "code",
     "collapsed": false,
     "input": [
      "print idf.idfobjects['MATERIAL']\n"
     ],
     "language": "python",
     "metadata": {},
     "outputs": []
    },
    {
     "cell_type": "markdown",
     "metadata": {},
     "source": [
      "So we have two ways of deleting an idf object:\n",
      "\n",
      "1. popidfobject -> give it the idf key: \"MATERIAL\", and the index number\n",
      "2. removeidfobject -> give it the idf object to be deleted"
     ]
    },
    {
     "cell_type": "heading",
     "level": 3,
     "metadata": {},
     "source": [
      "Copying/Adding an idf object"
     ]
    },
    {
     "cell_type": "markdown",
     "metadata": {},
     "source": [
      "Having deleted two \"MATERIAL\" objects, we have only one left. Let us make a copy of this object and add it to our idf file"
     ]
    },
    {
     "cell_type": "code",
     "collapsed": false,
     "input": [
      "onlymaterial = idf.idfobjects[\"MATERIAL\"][0]"
     ],
     "language": "python",
     "metadata": {},
     "outputs": []
    },
    {
     "cell_type": "code",
     "collapsed": false,
     "input": [
      "idf.copyidfobject(onlymaterial)"
     ],
     "language": "python",
     "metadata": {},
     "outputs": []
    },
    {
     "cell_type": "code",
     "collapsed": false,
     "input": [
      "print idf.idfobjects[\"MATERIAL\"]\n"
     ],
     "language": "python",
     "metadata": {},
     "outputs": []
    },
    {
     "cell_type": "markdown",
     "metadata": {},
     "source": [
      "So now we have a copy of the material. You can use this method to copy idf objects from other idf files too."
     ]
    },
    {
     "cell_type": "heading",
     "level": 2,
     "metadata": {},
     "source": [
      "Making an idf object with named arguments"
     ]
    },
    {
     "cell_type": "markdown",
     "metadata": {},
     "source": [
      "What if we wanted to make an idf object with values for it's fields? We can do that too.\n"
     ]
    },
    {
     "cell_type": "heading",
     "level": 2,
     "metadata": {},
     "source": [
      "Renaming an idf object"
     ]
    },
    {
     "cell_type": "code",
     "collapsed": false,
     "input": [
      "gypboard = idf.newidfobject('MATERIAL', Name=\"G01a 19mm gypsum board\",\n",
      "                            Roughness=\"MediumSmooth\",\n",
      "                            Thickness=0.019,\n",
      "                            Conductivity=0.16,\n",
      "                            Density=800,\n",
      "                            Specific_Heat=1090)"
     ],
     "language": "python",
     "metadata": {},
     "outputs": []
    },
    {
     "cell_type": "code",
     "collapsed": false,
     "input": [
      "print gypboard\n"
     ],
     "language": "python",
     "metadata": {},
     "outputs": []
    },
    {
     "cell_type": "markdown",
     "metadata": {},
     "source": [
      "newidfobject() also fills in the default values like \"Thermal Absorptance\", \"Solar Absorptance\", etc."
     ]
    },
    {
     "cell_type": "code",
     "collapsed": false,
     "input": [
      "print idf.idfobjects[\"MATERIAL\"]\n"
     ],
     "language": "python",
     "metadata": {},
     "outputs": []
    },
    {
     "cell_type": "heading",
     "level": 2,
     "metadata": {},
     "source": [
      "Renaming an idf object"
     ]
    },
    {
     "cell_type": "markdown",
     "metadata": {},
     "source": [
      "It is easy to rename an idf object. If we want to rename the gypboard object that we created above, we simply say:\n"
     ]
    },
    {
     "cell_type": "raw",
     "metadata": {},
     "source": [
      "    gypboard.Name = \"a new name\".\n"
     ]
    },
    {
     "cell_type": "markdown",
     "metadata": {},
     "source": [
      "But this could create a problem. What if this gypboard is part of a \"CONSTRUCTION\" object. The construction object will refer to the gypboard by name. If we change the name of the gypboard, we should change it in the construction object. \n",
      "\n",
      "But there may be many constructions objects using the gypboard. Now we will have to change it in all those construction objects. Sounds painfull. \n",
      "\n",
      "Let us try this with an example:"
     ]
    },
    {
     "cell_type": "code",
     "collapsed": false,
     "input": [
      "interiorwall = idf.newidfobject(\"CONSTRUCTION\", Name=\"Interior Wall\",\n",
      "                 Outside_Layer=\"G01a 19mm gypsum board\",\n",
      "                 Layer_2=\"Shiny new material object\",\n",
      "                 Layer_3=\"G01a 19mm gypsum board\")\n",
      "print interiorwall\n"
     ],
     "language": "python",
     "metadata": {},
     "outputs": []
    },
    {
     "cell_type": "markdown",
     "metadata": {},
     "source": [
      "to rename gypboard and have that name change in all the places we call modeleditor.rename(idf, key, oldname, newname)"
     ]
    },
    {
     "cell_type": "code",
     "collapsed": false,
     "input": [
      "modeleditor.rename(idf, \"MATERIAL\", \"G01a 19mm gypsum board\", \"peanut butter\")"
     ],
     "language": "python",
     "metadata": {},
     "outputs": []
    },
    {
     "cell_type": "code",
     "collapsed": false,
     "input": [
      "print interiorwall\n"
     ],
     "language": "python",
     "metadata": {},
     "outputs": []
    },
    {
     "cell_type": "markdown",
     "metadata": {},
     "source": [
      "Now we have \"peanut butter\" everywhere. At least where we need it. Let us look at the entire idf file, just to be sure"
     ]
    },
    {
     "cell_type": "code",
     "collapsed": false,
     "input": [
      "idf.printidf()\n"
     ],
     "language": "python",
     "metadata": {},
     "outputs": []
    },
    {
     "cell_type": "heading",
     "level": 2,
     "metadata": {},
     "source": [
      "Zone area and volume"
     ]
    },
    {
     "cell_type": "markdown",
     "metadata": {},
     "source": [
      "The idf file has zones with surfaces and windows. It is easy to get the attributes of the surfaces and windows as we have seen in the tutorial. Let us review this once more:\n"
     ]
    },
    {
     "cell_type": "code",
     "collapsed": false,
     "input": [
      "from eppy import modeleditor \n",
      "from eppy.modeleditor import IDF\n",
      "iddfile = \"../eppy/resources/iddfiles/Energy+V7_2_0.idd\"\n",
      "fname1 = \"../eppy/resources/idffiles/V_7_2/box.idf\"\n",
      "# IDF.setiddname(iddfile)"
     ],
     "language": "python",
     "metadata": {},
     "outputs": []
    },
    {
     "cell_type": "code",
     "collapsed": false,
     "input": [
      "idf = IDF(fname1)"
     ],
     "language": "python",
     "metadata": {},
     "outputs": []
    },
    {
     "cell_type": "code",
     "collapsed": false,
     "input": [
      "surfaces = idf.idfobjects[\"BuildingSurface:Detailed\".upper()]\n",
      "surface = surfaces[0]\n",
      "print \"area = %s\" % (surface.area, )\n",
      "print \"tilt = %s\" % (surface.tilt, )\n",
      "print \"azimuth = %s\" % (surface.azimuth, )\n"
     ],
     "language": "python",
     "metadata": {},
     "outputs": []
    },
    {
     "cell_type": "markdown",
     "metadata": {},
     "source": [
      "Can we do the same for zones ? \n",
      "\n",
      "Not yet .. not yet. Not in this version on eppy\n",
      "\n",
      "But we can still get the area and volume of the zone\n"
     ]
    },
    {
     "cell_type": "code",
     "collapsed": false,
     "input": [
      "zones = idf.idfobjects[\"ZONE\"]\n",
      "zone = zones[0]\n",
      "area = modeleditor.zonearea(idf, zone.Name)\n",
      "volume = modeleditor.zonevolume(idf, zone.Name)\n",
      "print \"zone area = %s\" % (area, )\n",
      "print \"zone volume = %s\" % (volume, )\n"
     ],
     "language": "python",
     "metadata": {},
     "outputs": []
    },
    {
     "cell_type": "markdown",
     "metadata": {},
     "source": [
      "Not as slick, but still pretty easy"
     ]
    },
    {
     "cell_type": "markdown",
     "metadata": {},
     "source": [
      "Some notes on the zone area calculation:\n",
      "\n",
      "- area is calculated by summing up all the areas of the floor surfaces\n",
      "- if there are no floors, then the sum of ceilings and roof is taken as zone area\n",
      "- if there are no floors, ceilings or roof, we are out of luck. The function returns 0"
     ]
    }
   ],
   "metadata": {}
  }
 ]
}